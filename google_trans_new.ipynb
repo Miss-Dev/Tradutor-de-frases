{
  "nbformat": 4,
  "nbformat_minor": 0,
  "metadata": {
    "colab": {
      "name": "google-trans-new.ipynb",
      "provenance": [],
      "authorship_tag": "ABX9TyMk6jhVCkZZy3IEjJnLb70B",
      "include_colab_link": true
    },
    "kernelspec": {
      "name": "python3",
      "display_name": "Python 3"
    },
    "language_info": {
      "name": "python"
    }
  },
  "cells": [
    {
      "cell_type": "markdown",
      "metadata": {
        "id": "view-in-github",
        "colab_type": "text"
      },
      "source": [
        "<a href=\"https://colab.research.google.com/github/Miss-Dev/Tradutor-de-frases/blob/main/google_trans_new.ipynb\" target=\"_parent\"><img src=\"https://colab.research.google.com/assets/colab-badge.svg\" alt=\"Open In Colab\"/></a>"
      ]
    },
    {
      "cell_type": "markdown",
      "metadata": {
        "id": "6jyaeVYoWzD6"
      },
      "source": [
        "#Instalando a biblioteca google-trans-new"
      ]
    },
    {
      "cell_type": "code",
      "metadata": {
        "colab": {
          "base_uri": "https://localhost:8080/"
        },
        "id": "Uc8JKyjBZ0GY",
        "outputId": "b0571027-0714-4514-c20d-76acf4f89f40"
      },
      "source": [
        "pip install google_trans_new"
      ],
      "execution_count": 6,
      "outputs": [
        {
          "output_type": "stream",
          "text": [
            "Collecting google_trans_new\n",
            "  Downloading https://files.pythonhosted.org/packages/f9/7b/9f136106dc5824dc98185c97991d3cd9b53e70a197154dd49f7b899128f6/google_trans_new-1.1.9-py3-none-any.whl\n",
            "Installing collected packages: google-trans-new\n",
            "Successfully installed google-trans-new-1.1.9\n"
          ],
          "name": "stdout"
        }
      ]
    },
    {
      "cell_type": "markdown",
      "metadata": {
        "id": "32UCDmzJXnUS"
      },
      "source": [
        "#Importando a classe google_translator da biblioteca"
      ]
    },
    {
      "cell_type": "code",
      "metadata": {
        "colab": {
          "base_uri": "https://localhost:8080/"
        },
        "id": "oCYPezPaXfBy",
        "outputId": "f4a0823e-855a-4600-c9a8-5fc86abe8ce4"
      },
      "source": [
        "from google_trans_new import google_translator\n",
        "translator = google_translator()\n",
        "frase = input(\"Escreva uma frase: \")\n",
        "detect = translator.detect(frase) #método detect, utilizado para detectar um idioma\n",
        "print(detect)\n"
      ],
      "execution_count": 8,
      "outputs": [
        {
          "output_type": "stream",
          "text": [
            "Escreva uma frase: Eu sou brasileira\n",
            "['pt', 'portuguese']\n"
          ],
          "name": "stdout"
        }
      ]
    },
    {
      "cell_type": "code",
      "metadata": {
        "id": "2U2SmNb_bbRK"
      },
      "source": [
        "def menu():\n",
        "  print('1 - Portugues\\n2 - English\\n3 - Espanhol\\n4 - Francês\\n5 - Russo\\n6 - Chinês')"
      ],
      "execution_count": 9,
      "outputs": []
    },
    {
      "cell_type": "code",
      "metadata": {
        "colab": {
          "base_uri": "https://localhost:8080/"
        },
        "id": "8txKFrPObrsd",
        "outputId": "438e8521-c49e-4970-a7ea-590076f3a2f8"
      },
      "source": [
        "op = ['pt', 'en', 'es', 'fr', 'ru', 'zh']\n",
        "\n",
        "frase = input(\"Escreva uma frase: \")\n",
        "menu()\n",
        "op_lang = int(input(\"Traduzir para: \"))\n",
        "if (op_lang>=1 and op_lang<=6):\n",
        "  traducao = translator.translate(frase, lang_tgt=op[op_lang-1])  #op[variavel - 1] é para subtrair o valor do índice pois as listas começam com o índice 0\n",
        "else:\n",
        "  print(\"Alguma ou as duas opções estão inválidas!\")\n",
        "print(traducao)"
      ],
      "execution_count": 10,
      "outputs": [
        {
          "output_type": "stream",
          "text": [
            "Escreva uma frase: Gosto muito de programar em python!\n",
            "1 - Portugues\n",
            "2 - English\n",
            "3 - Espanhol\n",
            "4 - Francês\n",
            "5 - Russo\n",
            "6 - Chinês\n",
            "Traduzir para: 3\n",
            "¡Realmente me gusta la programación en Python! \n"
          ],
          "name": "stdout"
        }
      ]
    }
  ]
}