{
  "nbformat": 4,
  "nbformat_minor": 0,
  "metadata": {
    "colab": {
      "name": "translate.ipynb",
      "provenance": [],
      "authorship_tag": "ABX9TyPhoaxmxPcy6XJotUuz4yG3",
      "include_colab_link": true
    },
    "kernelspec": {
      "name": "python3",
      "display_name": "Python 3"
    },
    "language_info": {
      "name": "python"
    }
  },
  "cells": [
    {
      "cell_type": "markdown",
      "metadata": {
        "id": "view-in-github",
        "colab_type": "text"
      },
      "source": [
        "<a href=\"https://colab.research.google.com/github/Miss-Dev/Tradutor-de-frases/blob/main/translate.ipynb\" target=\"_parent\"><img src=\"https://colab.research.google.com/assets/colab-badge.svg\" alt=\"Open In Colab\"/></a>"
      ]
    },
    {
      "cell_type": "markdown",
      "metadata": {
        "id": "BPojfX8q4szR"
      },
      "source": [
        "# Instalando a biblioteca translate\n"
      ]
    },
    {
      "cell_type": "code",
      "metadata": {
        "colab": {
          "base_uri": "https://localhost:8080/"
        },
        "id": "SiE0A0O00WZr",
        "outputId": "6514cd2e-9276-4246-8d0f-11f85affb5d8"
      },
      "source": [
        "pip install translate"
      ],
      "execution_count": 1,
      "outputs": [
        {
          "output_type": "stream",
          "text": [
            "Collecting translate\n",
            "  Downloading https://files.pythonhosted.org/packages/85/b2/2ea329a07bbc0c7227eef84ca89ffd6895e7ec237d6c0b26574d56103e53/translate-3.5.0-py2.py3-none-any.whl\n",
            "Collecting tox\n",
            "\u001b[?25l  Downloading https://files.pythonhosted.org/packages/ec/7e/4609fd0386d41f0b94fe952708970fb87cc1fb66e088758b1f0ab336802e/tox-3.23.0-py2.py3-none-any.whl (85kB)\n",
            "\u001b[K     |████████████████████████████████| 92kB 3.5MB/s \n",
            "\u001b[?25hCollecting pre-commit\n",
            "\u001b[?25l  Downloading https://files.pythonhosted.org/packages/e4/ef/a3889a07344c047ed011ea198805bd3377f22675c20df944152e466e7fdc/pre_commit-2.11.1-py2.py3-none-any.whl (187kB)\n",
            "\u001b[K     |████████████████████████████████| 194kB 7.5MB/s \n",
            "\u001b[?25hRequirement already satisfied: requests in /usr/local/lib/python3.7/dist-packages (from translate) (2.23.0)\n",
            "Requirement already satisfied: lxml in /usr/local/lib/python3.7/dist-packages (from translate) (4.2.6)\n",
            "Requirement already satisfied: click in /usr/local/lib/python3.7/dist-packages (from translate) (7.1.2)\n",
            "Requirement already satisfied: toml>=0.9.4 in /usr/local/lib/python3.7/dist-packages (from tox->translate) (0.10.2)\n",
            "Requirement already satisfied: six>=1.14.0 in /usr/local/lib/python3.7/dist-packages (from tox->translate) (1.15.0)\n",
            "Collecting virtualenv!=20.0.0,!=20.0.1,!=20.0.2,!=20.0.3,!=20.0.4,!=20.0.5,!=20.0.6,!=20.0.7,>=16.0.0\n",
            "\u001b[?25l  Downloading https://files.pythonhosted.org/packages/91/fb/ca6c071f4231e06a9f0c3bd81c15c233bbacd4a7d9dbb7438d95fece8a1e/virtualenv-20.4.3-py2.py3-none-any.whl (7.2MB)\n",
            "\u001b[K     |████████████████████████████████| 7.2MB 6.4MB/s \n",
            "\u001b[?25hRequirement already satisfied: filelock>=3.0.0 in /usr/local/lib/python3.7/dist-packages (from tox->translate) (3.0.12)\n",
            "Requirement already satisfied: packaging>=14 in /usr/local/lib/python3.7/dist-packages (from tox->translate) (20.9)\n",
            "Requirement already satisfied: py>=1.4.17 in /usr/local/lib/python3.7/dist-packages (from tox->translate) (1.10.0)\n",
            "Collecting pluggy>=0.12.0\n",
            "  Downloading https://files.pythonhosted.org/packages/a0/28/85c7aa31b80d150b772fbe4a229487bc6644da9ccb7e427dd8cc60cb8a62/pluggy-0.13.1-py2.py3-none-any.whl\n",
            "Requirement already satisfied: importlib-metadata>=0.12; python_version < \"3.8\" in /usr/local/lib/python3.7/dist-packages (from tox->translate) (3.7.2)\n",
            "Collecting pyyaml>=5.1\n",
            "\u001b[?25l  Downloading https://files.pythonhosted.org/packages/7a/a5/393c087efdc78091afa2af9f1378762f9821c9c1d7a22c5753fb5ac5f97a/PyYAML-5.4.1-cp37-cp37m-manylinux1_x86_64.whl (636kB)\n",
            "\u001b[K     |████████████████████████████████| 645kB 40.5MB/s \n",
            "\u001b[?25hCollecting cfgv>=2.0.0\n",
            "  Downloading https://files.pythonhosted.org/packages/45/cd/3878c9248e59e5e2ebd0dc741ab984b18d86e7283ae9b127b05fc287d239/cfgv-3.2.0-py2.py3-none-any.whl\n",
            "Collecting nodeenv>=0.11.1\n",
            "  Downloading https://files.pythonhosted.org/packages/ae/d0/efdf54539948315cc76e5a66b709212963101d002822c3b54369dbf9b5e0/nodeenv-1.5.0-py2.py3-none-any.whl\n",
            "Collecting identify>=1.0.0\n",
            "\u001b[?25l  Downloading https://files.pythonhosted.org/packages/7f/ed/72d708f40a3aad97644cf6048af15faee8777cb1cbc9348c6c81718bcf01/identify-2.2.1-py2.py3-none-any.whl (98kB)\n",
            "\u001b[K     |████████████████████████████████| 102kB 8.1MB/s \n",
            "\u001b[?25hRequirement already satisfied: idna<3,>=2.5 in /usr/local/lib/python3.7/dist-packages (from requests->translate) (2.10)\n",
            "Requirement already satisfied: certifi>=2017.4.17 in /usr/local/lib/python3.7/dist-packages (from requests->translate) (2020.12.5)\n",
            "Requirement already satisfied: urllib3!=1.25.0,!=1.25.1,<1.26,>=1.21.1 in /usr/local/lib/python3.7/dist-packages (from requests->translate) (1.24.3)\n",
            "Requirement already satisfied: chardet<4,>=3.0.2 in /usr/local/lib/python3.7/dist-packages (from requests->translate) (3.0.4)\n",
            "Collecting distlib<1,>=0.3.1\n",
            "\u001b[?25l  Downloading https://files.pythonhosted.org/packages/f5/0a/490fa011d699bb5a5f3a0cf57de82237f52a6db9d40f33c53b2736c9a1f9/distlib-0.3.1-py2.py3-none-any.whl (335kB)\n",
            "\u001b[K     |████████████████████████████████| 337kB 41.0MB/s \n",
            "\u001b[?25hRequirement already satisfied: appdirs<2,>=1.4.3 in /usr/local/lib/python3.7/dist-packages (from virtualenv!=20.0.0,!=20.0.1,!=20.0.2,!=20.0.3,!=20.0.4,!=20.0.5,!=20.0.6,!=20.0.7,>=16.0.0->tox->translate) (1.4.4)\n",
            "Requirement already satisfied: pyparsing>=2.0.2 in /usr/local/lib/python3.7/dist-packages (from packaging>=14->tox->translate) (2.4.7)\n",
            "Requirement already satisfied: typing-extensions>=3.6.4; python_version < \"3.8\" in /usr/local/lib/python3.7/dist-packages (from importlib-metadata>=0.12; python_version < \"3.8\"->tox->translate) (3.7.4.3)\n",
            "Requirement already satisfied: zipp>=0.5 in /usr/local/lib/python3.7/dist-packages (from importlib-metadata>=0.12; python_version < \"3.8\"->tox->translate) (3.4.1)\n",
            "\u001b[31mERROR: pytest 3.6.4 has requirement pluggy<0.8,>=0.5, but you'll have pluggy 0.13.1 which is incompatible.\u001b[0m\n",
            "\u001b[31mERROR: datascience 0.10.6 has requirement folium==0.2.1, but you'll have folium 0.8.3 which is incompatible.\u001b[0m\n",
            "Installing collected packages: distlib, virtualenv, pluggy, tox, pyyaml, cfgv, nodeenv, identify, pre-commit, translate\n",
            "  Found existing installation: pluggy 0.7.1\n",
            "    Uninstalling pluggy-0.7.1:\n",
            "      Successfully uninstalled pluggy-0.7.1\n",
            "  Found existing installation: PyYAML 3.13\n",
            "    Uninstalling PyYAML-3.13:\n",
            "      Successfully uninstalled PyYAML-3.13\n",
            "Successfully installed cfgv-3.2.0 distlib-0.3.1 identify-2.2.1 nodeenv-1.5.0 pluggy-0.13.1 pre-commit-2.11.1 pyyaml-5.4.1 tox-3.23.0 translate-3.5.0 virtualenv-20.4.3\n"
          ],
          "name": "stdout"
        }
      ]
    },
    {
      "cell_type": "markdown",
      "metadata": {
        "id": "5sH7jInd48sw"
      },
      "source": [
        "# Código para traduzir uma frase\n"
      ]
    },
    {
      "cell_type": "code",
      "metadata": {
        "colab": {
          "base_uri": "https://localhost:8080/"
        },
        "id": "66WNk38F1Pua",
        "outputId": "e13d969d-e775-4241-d38e-7d9ed4b59458"
      },
      "source": [
        "from translate import Translator\n",
        "\n",
        "traduzir = Translator(from_lang = 'pt', to_lang=\"en\")\n",
        "frase = input('Traduzir: ')\n"
      ],
      "execution_count": 14,
      "outputs": [
        {
          "output_type": "stream",
          "text": [
            "Traduzir: Tenho que aprender inglês\n"
          ],
          "name": "stdout"
        }
      ]
    },
    {
      "cell_type": "code",
      "metadata": {
        "colab": {
          "base_uri": "https://localhost:8080/"
        },
        "id": "eMj-X5iT3ANR",
        "outputId": "d64f3160-97de-445f-9055-4e6144069adc"
      },
      "source": [
        "traducao = traduzir.translate(frase)\n",
        "print(traducao)"
      ],
      "execution_count": 15,
      "outputs": [
        {
          "output_type": "stream",
          "text": [
            "I have to learn English\n"
          ],
          "name": "stdout"
        }
      ]
    },
    {
      "cell_type": "markdown",
      "metadata": {
        "id": "yjXz7n2m5QUo"
      },
      "source": [
        "#Automatizando com opções de tradução"
      ]
    },
    {
      "cell_type": "code",
      "metadata": {
        "id": "SRM78Eqy8MaX"
      },
      "source": [
        "def menu():\n",
        "  print('1 - Portugues\\n2 - English\\n3 - Espanhol\\n4 - Francês\\n5 - Russo\\n6 - Chinês')\n",
        "  "
      ],
      "execution_count": 30,
      "outputs": []
    },
    {
      "cell_type": "code",
      "metadata": {
        "colab": {
          "base_uri": "https://localhost:8080/"
        },
        "id": "GXcwqygf5OCI",
        "outputId": "2469461c-134d-4a73-b625-cfca610e2e45"
      },
      "source": [
        "op = ['pt', 'en', 'es', 'fr', 'ru', 'zh']\n",
        "sair = False\n",
        "menu()\n",
        "de = int(input(\"A frase está em qual lingua, escolha uma opção: \"))\n",
        "menu()\n",
        "para = int(input(\"Traduzir para: \"))\n",
        "if (de>=1 and de<=6 and para>=1 and para<=6):\n",
        "  traduzir = Translator(from_lang = op[de-1], to_lang=op[para-1]) #op[variavel - 1] é para subtrair o valor do índice pois as listas começam com o índice 0\n",
        "else:\n",
        "  print(\"Alguma ou as duas opções estão inválidas!\")\n",
        "\n"
      ],
      "execution_count": 31,
      "outputs": [
        {
          "output_type": "stream",
          "text": [
            "1 - Portugues\n",
            "2 - English\n",
            "3 - Espanhol\n",
            "4 - Francês\n",
            "5 - Russo\n",
            "6 - Chinês\n",
            "A frase está em qual lingua, escolha uma opção: 1\n",
            "1 - Portugues\n",
            "2 - English\n",
            "3 - Espanhol\n",
            "4 - Francês\n",
            "5 - Russo\n",
            "6 - Chinês\n",
            "Traduzir para: 5\n"
          ],
          "name": "stdout"
        }
      ]
    },
    {
      "cell_type": "code",
      "metadata": {
        "colab": {
          "base_uri": "https://localhost:8080/"
        },
        "id": "og6ZmhcF9ljn",
        "outputId": "0dd7d91b-115a-4976-bccc-7c3ae8536bb0"
      },
      "source": [
        "frase = input(\"Frase: \")\n",
        "print(traduzir.translate(frase))"
      ],
      "execution_count": 32,
      "outputs": [
        {
          "output_type": "stream",
          "text": [
            "Frase: Boa tarde a todos!\n",
            "Добрый день, все!\n"
          ],
          "name": "stdout"
        }
      ]
    }
  ]
}